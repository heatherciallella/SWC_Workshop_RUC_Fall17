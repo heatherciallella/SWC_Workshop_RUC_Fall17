{
 "cells": [
  {
   "cell_type": "markdown",
   "metadata": {},
   "source": [
    "## Note about Pandas DataFrames/Series\n",
    "\n",
    "A [DataFrame](https://pandas.pydata.org/pandas-docs/stable/generated/pandas.DataFrame.html) is a collection of [Series](https://pandas.pydata.org/pandas-docs/stable/generated/pandas.Series.html);\n",
    "The DataFrame is the way Pandas represents a table, and Series is the data-structure Pandas uses to represent a column.\n",
    "\n",
    "Pandas is built on top of the [NumPy](http://www.numpy.org/) library, which in practice means that\n",
    "most of the methods defined for NumPy Arrays apply to Pandas Series/DataFrames.\n",
    "\n",
    "What makes Pandas so attractive is the powerful interface to access individual records\n",
    "of the table, proper handling of missing values, and relational-databases operations\n",
    "between DataFrames."
   ]
  },
  {
   "cell_type": "markdown",
   "metadata": {},
   "source": [
    "## Selecting values\n",
    "\n",
    "To access a value at the position `[i,j]` of a DataFrame, we have two options, depending on\n",
    "what is the meaning of `i` in use.    \n",
    "\n",
    "Remember that a DataFrame provides an *index* as a way to identify the rows of the table;\n",
    "a row, then, has a *position* inside the table as well as a *label*, which\n",
    "uniquely identifies its *entry* in the DataFrame."
   ]
  },
  {
   "cell_type": "markdown",
   "metadata": {},
   "source": [
    "## Use `DataFrame.iloc[..., ...]` to select values by their (entry) position\n",
    "\n",
    "We can specify location by numerical index (the same way we would specify the index of a string)."
   ]
  },
  {
   "cell_type": "code",
   "execution_count": null,
   "metadata": {},
   "outputs": [],
   "source": []
  },
  {
   "cell_type": "code",
   "execution_count": null,
   "metadata": {},
   "outputs": [],
   "source": []
  },
  {
   "cell_type": "code",
   "execution_count": null,
   "metadata": {},
   "outputs": [],
   "source": []
  },
  {
   "cell_type": "code",
   "execution_count": null,
   "metadata": {},
   "outputs": [],
   "source": []
  },
  {
   "cell_type": "markdown",
   "metadata": {},
   "source": [
    "## Use `DataFrame.loc[..., ...]` to select values by their (entry) label.\n",
    "\n",
    "We can specify location by row and column name, too. Sometimes, this is more intuitive when you are working with data."
   ]
  },
  {
   "cell_type": "code",
   "execution_count": null,
   "metadata": {},
   "outputs": [],
   "source": []
  },
  {
   "cell_type": "markdown",
   "metadata": {},
   "source": [
    "## Practice with Selection of Individual Values\n",
    "\n",
    "#### Write an expression to find the Per Capita GDP of Serbia in 2007."
   ]
  },
  {
   "cell_type": "code",
   "execution_count": null,
   "metadata": {},
   "outputs": [],
   "source": []
  },
  {
   "cell_type": "markdown",
   "metadata": {},
   "source": [
    "## Use `:` on its own to mean all columns or all rows.\n",
    "\n",
    "This is just the same way you would slice data in NumPy (as we did earlier today) or even in Python lists."
   ]
  },
  {
   "cell_type": "code",
   "execution_count": null,
   "metadata": {},
   "outputs": [],
   "source": []
  },
  {
   "cell_type": "markdown",
   "metadata": {},
   "source": [
    "In Pandas, when we want to select all of the data in a single row, we actually don't need to specify using `:` that we want all columns, too."
   ]
  },
  {
   "cell_type": "code",
   "execution_count": null,
   "metadata": {},
   "outputs": [],
   "source": []
  },
  {
   "cell_type": "markdown",
   "metadata": {},
   "source": [
    "When we want to select all of the data in a column, though, we *do* in fact need the `:` if we use `.loc`."
   ]
  },
  {
   "cell_type": "code",
   "execution_count": null,
   "metadata": {},
   "outputs": [],
   "source": []
  },
  {
   "cell_type": "markdown",
   "metadata": {},
   "source": [
    "Interestingly, there are actually a couple of different ways that we can access the same column in a Pandas DataFrame."
   ]
  },
  {
   "cell_type": "code",
   "execution_count": null,
   "metadata": {},
   "outputs": [],
   "source": []
  },
  {
   "cell_type": "code",
   "execution_count": null,
   "metadata": {},
   "outputs": [],
   "source": []
  },
  {
   "cell_type": "markdown",
   "metadata": {},
   "source": [
    "## Practicing with Slicing\n",
    "\n",
    "#### What if we only care about the data from 1962 to 1972 from Italy, Montenegro, Netherlands, Norway, and Poland?"
   ]
  },
  {
   "cell_type": "code",
   "execution_count": null,
   "metadata": {},
   "outputs": [],
   "source": []
  },
  {
   "cell_type": "code",
   "execution_count": null,
   "metadata": {},
   "outputs": [],
   "source": []
  },
  {
   "cell_type": "markdown",
   "metadata": {},
   "source": [
    "## Results of slicing can be used in further operations.\n",
    "\n",
    "*   Usually, we don't just print a slice.\n",
    "*   All the statistical operators that work on entire dataframes\n",
    "    work the same way on slices."
   ]
  },
  {
   "cell_type": "code",
   "execution_count": null,
   "metadata": {},
   "outputs": [],
   "source": []
  },
  {
   "cell_type": "markdown",
   "metadata": {},
   "source": [
    "## Use comparisons to select data based on value.\n",
    "\n",
    "*   Comparison is applied element by element.\n",
    "*   Returns a similarly-shaped dataframe of `True` and `False`."
   ]
  },
  {
   "cell_type": "markdown",
   "metadata": {},
   "source": [
    "#### Let's take a look at places in our data slice from earlier and find where the GDP per capita was greater than $10,000."
   ]
  },
  {
   "cell_type": "code",
   "execution_count": null,
   "metadata": {},
   "outputs": [],
   "source": []
  },
  {
   "cell_type": "code",
   "execution_count": null,
   "metadata": {},
   "outputs": [],
   "source": []
  },
  {
   "cell_type": "code",
   "execution_count": null,
   "metadata": {},
   "outputs": [],
   "source": []
  },
  {
   "cell_type": "markdown",
   "metadata": {},
   "source": [
    "## Select values or NaN using a Boolean mask.\n",
    "\n",
    "A frame full of Booleans is sometimes called a *mask* because of how it can be used."
   ]
  },
  {
   "cell_type": "code",
   "execution_count": null,
   "metadata": {},
   "outputs": [],
   "source": []
  },
  {
   "cell_type": "code",
   "execution_count": null,
   "metadata": {},
   "outputs": [],
   "source": []
  },
  {
   "cell_type": "markdown",
   "metadata": {},
   "source": [
    "When we do this, we get the value where the mask is true, and NaN (Not a Number) where it is false, which is useful because when we do statistics on our data, NaN values are ignored."
   ]
  },
  {
   "cell_type": "code",
   "execution_count": null,
   "metadata": {},
   "outputs": [],
   "source": []
  },
  {
   "cell_type": "markdown",
   "metadata": {},
   "source": [
    "## Select-Apply-Combine operations\n",
    "\n",
    "Pandas vectorizing methods and grouping operations are features that provide users \n",
    "much flexibility to analyse their data.\n",
    "\n",
    "For instance, let's say we want to have a clearer view on how the European countries \n",
    "split themselves according to their GDP.\n",
    "\n",
    "1.  We may have a glance by splitting the countries in two groups during the years surveyed,\n",
    "    those who presented a GDP *higher* than the European average and those with a *lower* GDP.\n",
    "2.  We then estimate a *wealthy score* based on the historical (from 1962 to 2007) values,\n",
    "    where we account how many times a country has participated in the groups of *lower* or *higher* GDP"
   ]
  },
  {
   "cell_type": "code",
   "execution_count": null,
   "metadata": {},
   "outputs": [],
   "source": []
  },
  {
   "cell_type": "code",
   "execution_count": null,
   "metadata": {},
   "outputs": [],
   "source": []
  },
  {
   "cell_type": "code",
   "execution_count": null,
   "metadata": {},
   "outputs": [],
   "source": []
  },
  {
   "cell_type": "code",
   "execution_count": null,
   "metadata": {},
   "outputs": [],
   "source": []
  },
  {
   "cell_type": "code",
   "execution_count": null,
   "metadata": {},
   "outputs": [],
   "source": []
  },
  {
   "cell_type": "code",
   "execution_count": null,
   "metadata": {},
   "outputs": [],
   "source": []
  },
  {
   "cell_type": "code",
   "execution_count": null,
   "metadata": {},
   "outputs": [],
   "source": []
  },
  {
   "cell_type": "code",
   "execution_count": null,
   "metadata": {},
   "outputs": [],
   "source": []
  },
  {
   "cell_type": "code",
   "execution_count": null,
   "metadata": {},
   "outputs": [],
   "source": []
  },
  {
   "cell_type": "code",
   "execution_count": null,
   "metadata": {},
   "outputs": [],
   "source": []
  },
  {
   "cell_type": "markdown",
   "metadata": {},
   "source": [
    "Finally, for each group in the `wealth_scores` table, we can sum their (financial) contribution\n",
    "across the years surveyed:"
   ]
  },
  {
   "cell_type": "code",
   "execution_count": null,
   "metadata": {},
   "outputs": [],
   "source": []
  }
 ],
 "metadata": {
  "kernelspec": {
   "display_name": "Python 3",
   "language": "python",
   "name": "python3"
  },
  "language_info": {
   "codemirror_mode": {
    "name": "ipython",
    "version": 3
   },
   "file_extension": ".py",
   "mimetype": "text/x-python",
   "name": "python",
   "nbconvert_exporter": "python",
   "pygments_lexer": "ipython3",
   "version": "3.6.3"
  }
 },
 "nbformat": 4,
 "nbformat_minor": 2
}
