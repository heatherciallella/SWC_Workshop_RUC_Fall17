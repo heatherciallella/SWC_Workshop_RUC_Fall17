{
 "cells": [
  {
   "cell_type": "markdown",
   "metadata": {},
   "source": [
    "# __Libraries__"
   ]
  },
  {
   "cell_type": "markdown",
   "metadata": {},
   "source": [
    "## Most of the power of a programming language is in its libraries.\n",
    "\n",
    "*   A *library* is a collection of files (called *modules*) that contains\n",
    "    functions and data values (e.g., numerical constants) for use by other programs.\n",
    "*   The Python [standard library](https://docs.python.org/3/library/) is an extensive suite of modules that comes\n",
    "    with Python itself.\n",
    "*   Many additional libraries are available from [PyPI](https://pypi.org/) (the Python Package Index)."
   ]
  },
  {
   "cell_type": "markdown",
   "metadata": {},
   "source": [
    "## A program must import a library module before using it.\n",
    "\n",
    "*   Use `import` to load a library module into a program's memory.\n",
    "*   Then refer to things from the module as `module_name.thing_name` because Python uses `.` to mean \"part of\".\n",
    "*   Using `math`, one of the modules in the standard library:"
   ]
  },
  {
   "cell_type": "code",
   "execution_count": null,
   "metadata": {},
   "outputs": [],
   "source": []
  },
  {
   "cell_type": "code",
   "execution_count": null,
   "metadata": {},
   "outputs": [],
   "source": []
  },
  {
   "cell_type": "code",
   "execution_count": null,
   "metadata": {},
   "outputs": [],
   "source": []
  },
  {
   "cell_type": "markdown",
   "metadata": {},
   "source": [
    "We have to refer to each item with a reference to the module's name.\n",
    "\n",
    "For example, `math.cos(pi)` won't work because the reference to `pi` doesn't somehow \"inherit\" the function's reference to `math`."
   ]
  },
  {
   "cell_type": "markdown",
   "metadata": {},
   "source": [
    "## Use `help` to learn about the contents of a library module.\n",
    "\n",
    "This works just like help for a function!"
   ]
  },
  {
   "cell_type": "code",
   "execution_count": null,
   "metadata": {},
   "outputs": [],
   "source": []
  },
  {
   "cell_type": "markdown",
   "metadata": {},
   "source": [
    "## When Is Help Available?\n",
    "\n",
    "How would we search for information about the Python standard library `statistics`?"
   ]
  },
  {
   "cell_type": "code",
   "execution_count": null,
   "metadata": {},
   "outputs": [],
   "source": []
  },
  {
   "cell_type": "code",
   "execution_count": null,
   "metadata": {},
   "outputs": [],
   "source": []
  },
  {
   "cell_type": "markdown",
   "metadata": {},
   "source": [
    "## Import specific items from a library module to shorten programs.\n",
    "\n",
    "1. Use `from ... import ...` to load only specific items from a library module.\n",
    "2. Refer to them directly without library name as prefix."
   ]
  },
  {
   "cell_type": "code",
   "execution_count": null,
   "metadata": {},
   "outputs": [],
   "source": []
  },
  {
   "cell_type": "code",
   "execution_count": null,
   "metadata": {},
   "outputs": [],
   "source": []
  },
  {
   "cell_type": "markdown",
   "metadata": {},
   "source": [
    "## Create an alias for a library module when importing it to shorten programs.\n",
    "\n",
    "1. Use `import ... as ...` to give a library a short *alias* while importing it.\n",
    "2. Refer to items in the library using that shortened name."
   ]
  },
  {
   "cell_type": "code",
   "execution_count": null,
   "metadata": {},
   "outputs": [],
   "source": []
  },
  {
   "cell_type": "code",
   "execution_count": null,
   "metadata": {},
   "outputs": [],
   "source": []
  },
  {
   "cell_type": "markdown",
   "metadata": {},
   "source": [
    "You will often see this with libraries such as NumPy, Pandas, and Matplotlib to shorten your typing. Be careful when you work with others, though, and make sure that you agree on naming conventions in your code."
   ]
  },
  {
   "cell_type": "markdown",
   "metadata": {},
   "source": [
    "## Practice Importing with Aliases\n",
    "\n",
    "#### Example 1\n",
    "\n",
    "First, let's fill in the following code such that it prints the value of pi / 2 in degrees.\n",
    "\n",
    "`import math as m`  \n",
    "`angle = ___.degrees(___.pi / 2)`  \n",
    "`print(___)`"
   ]
  },
  {
   "cell_type": "code",
   "execution_count": null,
   "metadata": {},
   "outputs": [],
   "source": []
  },
  {
   "cell_type": "markdown",
   "metadata": {},
   "source": [
    "Next, let's rewrite this code such that it uses `import` *without* `as` (i.e., with no alias)."
   ]
  },
  {
   "cell_type": "code",
   "execution_count": null,
   "metadata": {},
   "outputs": [],
   "source": []
  },
  {
   "cell_type": "markdown",
   "metadata": {},
   "source": [
    "Next, let's rewrite this same code using the `from` ... `import` ... syntax."
   ]
  },
  {
   "cell_type": "code",
   "execution_count": null,
   "metadata": {},
   "outputs": [],
   "source": []
  },
  {
   "cell_type": "markdown",
   "metadata": {},
   "source": [
    "Which of these three ways is the easiest for you to read? Why would you choose one form over another?"
   ]
  },
  {
   "cell_type": "markdown",
   "metadata": {},
   "source": [
    "#### Example 2\n",
    "\n",
    "Using the following statements to import the `math` module, let's take sin(pi / 2)."
   ]
  },
  {
   "cell_type": "code",
   "execution_count": null,
   "metadata": {},
   "outputs": [],
   "source": []
  },
  {
   "cell_type": "code",
   "execution_count": null,
   "metadata": {},
   "outputs": [],
   "source": []
  },
  {
   "cell_type": "code",
   "execution_count": null,
   "metadata": {},
   "outputs": [],
   "source": []
  },
  {
   "cell_type": "code",
   "execution_count": null,
   "metadata": {},
   "outputs": [],
   "source": []
  },
  {
   "cell_type": "code",
   "execution_count": null,
   "metadata": {},
   "outputs": [],
   "source": []
  },
  {
   "cell_type": "markdown",
   "metadata": {},
   "source": [
    "## Exploring the Math Module\n",
    "\n",
    "What function from the `math` module can we use to calculate a square root *without* using `sqrt`?\n",
    "\n",
    "Which option is more natural for someone to read?"
   ]
  },
  {
   "cell_type": "code",
   "execution_count": null,
   "metadata": {},
   "outputs": [],
   "source": []
  },
  {
   "cell_type": "code",
   "execution_count": null,
   "metadata": {},
   "outputs": [],
   "source": []
  },
  {
   "cell_type": "code",
   "execution_count": null,
   "metadata": {},
   "outputs": [],
   "source": []
  },
  {
   "cell_type": "markdown",
   "metadata": {},
   "source": [
    "## Locating the Right Module\n",
    "\n",
    "#### We want to select a random character from the following DNA sequence: ACTTGCTTGAC\n",
    "\n",
    "Our first task is to take a look at Python's [standard library](https://docs.python.org/3/library/) to find a module that might work for us.\n",
    "\n",
    "Next, we have to find the best function within that module to reach our end goal."
   ]
  },
  {
   "cell_type": "code",
   "execution_count": null,
   "metadata": {},
   "outputs": [],
   "source": []
  },
  {
   "cell_type": "markdown",
   "metadata": {},
   "source": [
    "Now, we try to write a program that uses the function."
   ]
  },
  {
   "cell_type": "code",
   "execution_count": null,
   "metadata": {},
   "outputs": [],
   "source": []
  },
  {
   "cell_type": "code",
   "execution_count": null,
   "metadata": {},
   "outputs": [],
   "source": []
  },
  {
   "cell_type": "code",
   "execution_count": null,
   "metadata": {},
   "outputs": [],
   "source": []
  },
  {
   "cell_type": "code",
   "execution_count": null,
   "metadata": {},
   "outputs": [],
   "source": []
  },
  {
   "cell_type": "code",
   "execution_count": null,
   "metadata": {},
   "outputs": [],
   "source": []
  },
  {
   "cell_type": "code",
   "execution_count": null,
   "metadata": {},
   "outputs": [],
   "source": []
  },
  {
   "cell_type": "code",
   "execution_count": null,
   "metadata": {},
   "outputs": [],
   "source": []
  },
  {
   "cell_type": "markdown",
   "metadata": {},
   "source": [
    "## Let's try to solve a puzzle.\n",
    "\n",
    "#### Rearrange the following statements and fill in the blanks so that a random DNA base from the above sequence is printed along with its index.\n",
    "\n",
    "* `bases=\"ACTTGCTTGAC\"`\n",
    "* `import math`\n",
    "* `import random`\n",
    "* `___ = random.randrange(n_bases)`\n",
    "* `___ = len(bases)`\n",
    "* `print(\"random base \", bases[___], \"base index\", ___)`"
   ]
  },
  {
   "cell_type": "code",
   "execution_count": null,
   "metadata": {},
   "outputs": [],
   "source": []
  }
 ],
 "metadata": {
  "kernelspec": {
   "display_name": "Python 3",
   "language": "python",
   "name": "python3"
  },
  "language_info": {
   "codemirror_mode": {
    "name": "ipython",
    "version": 3
   },
   "file_extension": ".py",
   "mimetype": "text/x-python",
   "name": "python",
   "nbconvert_exporter": "python",
   "pygments_lexer": "ipython3",
   "version": "3.6.3"
  }
 },
 "nbformat": 4,
 "nbformat_minor": 2
}
